{
 "cells": [
  {
   "cell_type": "code",
   "execution_count": null,
   "id": "6c5fba93-2a9b-4b41-abbe-e0c55e9b61a2",
   "metadata": {},
   "outputs": [],
   "source": [
    "Поиск ключевых моментов - Важные сцены"
   ]
  }
 ],
 "metadata": {
  "kernelspec": {
   "display_name": "tensflow",
   "language": "python",
   "name": "tensflow"
  },
  "language_info": {
   "codemirror_mode": {
    "name": "ipython",
    "version": 3
   },
   "file_extension": ".py",
   "mimetype": "text/x-python",
   "name": "python",
   "nbconvert_exporter": "python",
   "pygments_lexer": "ipython3",
   "version": "3.11.14"
  }
 },
 "nbformat": 4,
 "nbformat_minor": 5
}

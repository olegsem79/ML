{
 "cells": [
  {
   "cell_type": "code",
   "execution_count": null,
   "id": "ece9447d-b842-4cfa-bf78-f3e03ca68631",
   "metadata": {},
   "outputs": [],
   "source": [
    "Базовый анализ - Классификация сцен"
   ]
  }
 ],
 "metadata": {
  "kernelspec": {
   "display_name": "tensflow",
   "language": "python",
   "name": "tensflow"
  },
  "language_info": {
   "codemirror_mode": {
    "name": "ipython",
    "version": 3
   },
   "file_extension": ".py",
   "mimetype": "text/x-python",
   "name": "python",
   "nbconvert_exporter": "python",
   "pygments_lexer": "ipython3",
   "version": "3.11.14"
  }
 },
 "nbformat": 4,
 "nbformat_minor": 5
}

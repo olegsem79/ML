{
 "cells": [
  {
   "cell_type": "code",
   "execution_count": null,
   "id": "c2d86aec-3c47-4ebf-a106-5ddeb6615a1e",
   "metadata": {},
   "outputs": [],
   "source": [
    "pip install supervision==0.26.1 --force-reinstall --no-deps # "
   ]
  },
  {
   "cell_type": "code",
   "execution_count": null,
   "id": "25dee63e-6e55-41c9-a015-6fe8900258b0",
   "metadata": {},
   "outputs": [],
   "source": [
    "https://github.com/pyresearch/notebooks"
   ]
  },
  {
   "cell_type": "code",
   "execution_count": null,
   "id": "ca802f25-bb31-4a3c-bd25-a33bad96e65e",
   "metadata": {},
   "outputs": [],
   "source": [
    "https://colab.research.google.com/github/pyresearch/notebooks/blob/main/notebook/how_to_finetune_rf_detr_on_detection_dataset.ipynb"
   ]
  },
  {
   "cell_type": "code",
   "execution_count": 1,
   "id": "0c04662d-f692-418d-b89e-a3058728b1c2",
   "metadata": {},
   "outputs": [
    {
     "name": "stdout",
     "output_type": "stream",
     "text": [
      "/home/oleg/projects/ML/RT-DETR-RF-DETR\n"
     ]
    }
   ],
   "source": [
    "!pwd"
   ]
  },
  {
   "cell_type": "code",
   "execution_count": 8,
   "id": "56ad2b2d-d500-4db5-b1a4-f639b281ec63",
   "metadata": {},
   "outputs": [
    {
     "name": "stdout",
     "output_type": "stream",
     "text": [
      "loading Roboflow workspace...\n",
      "loading Roboflow project...\n"
     ]
    },
    {
     "name": "stderr",
     "output_type": "stream",
     "text": [
      "Downloading Dataset Version Zip in UAV-6 to yolov11:: 100%|██████████████| 255195/255195 [00:18<00:00, 13565.78it/s]"
     ]
    },
    {
     "name": "stdout",
     "output_type": "stream",
     "text": [
      "\n"
     ]
    },
    {
     "name": "stderr",
     "output_type": "stream",
     "text": [
      "\n",
      "Extracting Dataset Version Zip to UAV-6 in yolov11:: 100%|█████████████████| 16446/16446 [00:00<00:00, 17411.19it/s]\n"
     ]
    }
   ],
   "source": [
    "from roboflow import Roboflow\n",
    "rf = Roboflow(api_key=\"1xSkA1WLYlGLbcHdbDla\")\n",
    "project = rf.workspace(\"uav-qnoms\").project(\"uav-wqshy\")\n",
    "version = project.version(6)\n",
    "dataset = version.download(\"yolov11\")"
   ]
  },
  {
   "cell_type": "code",
   "execution_count": 4,
   "id": "c692b375-9c5e-48de-b3c3-7f29a57c3d11",
   "metadata": {},
   "outputs": [
    {
     "name": "stdout",
     "output_type": "stream",
     "text": [
      "✅ Доступна: rtdetr-l.pt\n"
     ]
    }
   ],
   "source": [
    "from ultralytics import RTDETR\n",
    "import requests\n",
    "import json\n",
    "\n",
    "# Посмотрим какие модели доступны\n",
    "url = \"https://github.com/ultralytics/assets/releases/download/v8.3.0/\"\n",
    "models_to_try = [\n",
    "    'rtdetr-l.pt',\n",
    "    'rtdetr-x.pt', \n",
    "    'rtdetr-m.pt',\n",
    "    'rtdetr-s.pt'\n",
    "]\n",
    "\n",
    "for model_name in models_to_try:\n",
    "    try:\n",
    "        model = RTDETR(model_name)\n",
    "        print(f\"✅ Доступна: {model_name}\")\n",
    "        break\n",
    "    except:\n",
    "        print(f\"❌ Недоступна: {model_name}\")"
   ]
  },
  {
   "cell_type": "code",
   "execution_count": 6,
   "id": "a2f1481b-c207-4fd7-8ec6-c97a682f22b9",
   "metadata": {
    "scrolled": true
   },
   "outputs": [
    {
     "name": "stdout",
     "output_type": "stream",
     "text": [
      "\u001b[KDownloading https://github.com/ultralytics/assets/releases/download/v8.3.0/rtdetr-l.pt to 'rtdetr-l.pt': 100% ━━━━━━━━━━━━ 63.4MB 15.7MB/s 4.0s4.0s<0.0s5s4\n",
      "rt-detr-l summary: 449 layers, 32,970,476 parameters, 0 gradients, 108.3 GFLOPs\n"
     ]
    },
    {
     "data": {
      "text/plain": [
       "(449, 32970476, 0, 108.3437056)"
      ]
     },
     "execution_count": 6,
     "metadata": {},
     "output_type": "execute_result"
    }
   ],
   "source": [
    "from ultralytics import RTDETR\n",
    "\n",
    "# Load a COCO-pretrained RT-DETR-l model\n",
    "model = RTDETR(\"rtdetr-l.pt\")\n",
    "#model = RTDETR('rtdetr-m.pt')  # ⬅️ Быстрее\n",
    "# model = RTDETR('rtdetr-s.pt')  # ⬅️ Намного быстрее\n",
    "\n",
    "# Display model information (optional)\n",
    "model.info()"
   ]
  },
  {
   "cell_type": "code",
   "execution_count": 2,
   "id": "5d80740c-1080-409e-a2c6-47163010b656",
   "metadata": {},
   "outputs": [
    {
     "name": "stdout",
     "output_type": "stream",
     "text": [
      "New https://pypi.org/project/ultralytics/8.3.223 available 😃 Update with 'pip install -U ultralytics'\n",
      "Ultralytics 8.3.221 🚀 Python-3.11.14 torch-2.5.1+cu124 CUDA:0 (NVIDIA GeForce RTX 4070, 12282MiB)\n",
      "\u001b[34m\u001b[1mengine/trainer: \u001b[0magnostic_nms=False, amp=True, augment=False, auto_augment=randaugment, batch=8, bgr=0.0, box=7.5, cache=True, cfg=None, classes=None, close_mosaic=10, cls=0.5, compile=False, conf=None, copy_paste=0.0, copy_paste_mode=flip, cos_lr=False, cutmix=0.0, data=/home/oleg/projects/ML/RT-DETR-RF-DETR/UAV-6_YOLO11/data.yaml, degrees=0.0, deterministic=True, device=None, dfl=1.5, dnn=False, dropout=0.0, dynamic=False, embed=None, epochs=1, erasing=0.4, exist_ok=False, fliplr=0.5, flipud=0.0, format=torchscript, fraction=1.0, freeze=None, half=True, hsv_h=0.015, hsv_s=0.7, hsv_v=0.4, imgsz=640, int8=False, iou=0.7, keras=False, kobj=1.0, line_width=None, lr0=0.01, lrf=0.01, mask_ratio=4, max_det=300, mixup=0.0, mode=train, model=rtdetr-l.pt, momentum=0.937, mosaic=1.0, multi_scale=False, name=train13, nbs=64, nms=False, opset=None, optimize=False, optimizer=auto, overlap_mask=True, patience=100, perspective=0.0, plots=True, pose=12.0, pretrained=True, profile=True, project=None, rect=False, resume=False, retina_masks=False, save=True, save_conf=False, save_crop=False, save_dir=/home/oleg/projects/ML/RT-DETR-RF-DETR/runs/detect/train13, save_frames=False, save_json=False, save_period=-1, save_txt=False, scale=0.5, seed=0, shear=0.0, show=False, show_boxes=True, show_conf=True, show_labels=True, simplify=True, single_cls=False, source=None, split=val, stream_buffer=False, task=detect, time=None, tracker=botsort.yaml, translate=0.1, val=True, verbose=True, vid_stride=1, visualize=False, warmup_bias_lr=0.1, warmup_epochs=3.0, warmup_momentum=0.8, weight_decay=0.0005, workers=16, workspace=None\n",
      "Overriding model.yaml nc=80 with nc=1\n",
      "WARNING ⚠️ no model scale passed. Assuming scale='l'.\n",
      "\n",
      "                   from  n    params  module                                       arguments                     \n",
      "  0                  -1  1     25248  ultralytics.nn.modules.block.HGStem          [3, 32, 48]                   \n",
      "  1                  -1  6    155072  ultralytics.nn.modules.block.HGBlock         [48, 48, 128, 3, 6]           \n",
      "  2                  -1  1      1408  ultralytics.nn.modules.conv.DWConv           [128, 128, 3, 2, 1, False]    \n",
      "  3                  -1  6    839296  ultralytics.nn.modules.block.HGBlock         [128, 96, 512, 3, 6]          \n",
      "  4                  -1  1      5632  ultralytics.nn.modules.conv.DWConv           [512, 512, 3, 2, 1, False]    \n",
      "  5                  -1  6   1695360  ultralytics.nn.modules.block.HGBlock         [512, 192, 1024, 5, 6, True, False]\n",
      "  6                  -1  6   2055808  ultralytics.nn.modules.block.HGBlock         [1024, 192, 1024, 5, 6, True, True]\n",
      "  7                  -1  6   2055808  ultralytics.nn.modules.block.HGBlock         [1024, 192, 1024, 5, 6, True, True]\n",
      "  8                  -1  1     11264  ultralytics.nn.modules.conv.DWConv           [1024, 1024, 3, 2, 1, False]  \n",
      "  9                  -1  6   6708480  ultralytics.nn.modules.block.HGBlock         [1024, 384, 2048, 5, 6, True, False]\n",
      " 10                  -1  1    524800  ultralytics.nn.modules.conv.Conv             [2048, 256, 1, 1, None, 1, 1, False]\n",
      " 11                  -1  1    789760  ultralytics.nn.modules.transformer.AIFI      [256, 1024, 8]                \n",
      " 12                  -1  1     66048  ultralytics.nn.modules.conv.Conv             [256, 256, 1, 1]              \n",
      " 13                  -1  1         0  torch.nn.modules.upsampling.Upsample         [None, 2, 'nearest']          \n",
      " 14                   7  1    262656  ultralytics.nn.modules.conv.Conv             [1024, 256, 1, 1, None, 1, 1, False]\n",
      " 15            [-2, -1]  1         0  ultralytics.nn.modules.conv.Concat           [1]                           \n",
      " 16                  -1  3   2232320  ultralytics.nn.modules.block.RepC3           [512, 256, 3]                 \n",
      " 17                  -1  1     66048  ultralytics.nn.modules.conv.Conv             [256, 256, 1, 1]              \n",
      " 18                  -1  1         0  torch.nn.modules.upsampling.Upsample         [None, 2, 'nearest']          \n",
      " 19                   3  1    131584  ultralytics.nn.modules.conv.Conv             [512, 256, 1, 1, None, 1, 1, False]\n",
      " 20            [-2, -1]  1         0  ultralytics.nn.modules.conv.Concat           [1]                           \n",
      " 21                  -1  3   2232320  ultralytics.nn.modules.block.RepC3           [512, 256, 3]                 \n",
      " 22                  -1  1    590336  ultralytics.nn.modules.conv.Conv             [256, 256, 3, 2]              \n",
      " 23            [-1, 17]  1         0  ultralytics.nn.modules.conv.Concat           [1]                           \n",
      " 24                  -1  3   2232320  ultralytics.nn.modules.block.RepC3           [512, 256, 3]                 \n",
      " 25                  -1  1    590336  ultralytics.nn.modules.conv.Conv             [256, 256, 3, 2]              \n",
      " 26            [-1, 12]  1         0  ultralytics.nn.modules.conv.Concat           [1]                           \n",
      " 27                  -1  3   2232320  ultralytics.nn.modules.block.RepC3           [512, 256, 3]                 \n",
      " 28        [21, 24, 27]  1   7303907  ultralytics.nn.modules.head.RTDETRDecoder    [1, [256, 256, 256]]          \n",
      "rt-detr-l summary: 457 layers, 32,808,131 parameters, 32,808,131 gradients, 108.0 GFLOPs\n",
      "\n",
      "Transferred 926/941 items from pretrained weights\n",
      "\u001b[34m\u001b[1mAMP: \u001b[0mrunning Automatic Mixed Precision (AMP) checks...\n",
      "\u001b[34m\u001b[1mAMP: \u001b[0mchecks passed ✅\n",
      "\u001b[34m\u001b[1mtrain: \u001b[0mFast image access ✅ (ping: 0.0±0.0 ms, read: 66.1±26.7 MB/s, size: 28.5 KB)\n",
      "\u001b[K\u001b[34m\u001b[1mtrain: \u001b[0mScanning /home/oleg/projects/ML/RT-DETR-RF-DETR/UAV-6_YOLO11/train/labels.cache... 7503 images, 6 backgrounds, 0 corrupt: 100% ━━━━━━━━━━━━ 7503/7503 6.5Mit/s 0.0s\n",
      "WARNING ⚠️ cache='ram' may produce non-deterministic training results. Consider cache='disk' as a deterministic alternative if your disk space allows.\n",
      "\u001b[K\u001b[34m\u001b[1mtrain: \u001b[0mCaching images (8.6GB RAM): 100% ━━━━━━━━━━━━ 7503/7503 1.5Kit/s 4.9s0.0s\n",
      "\u001b[34m\u001b[1malbumentations: \u001b[0mBlur(p=0.01, blur_limit=(3, 7)), MedianBlur(p=0.01, blur_limit=(3, 7)), ToGray(p=0.01, method='weighted_average', num_output_channels=3), CLAHE(p=0.01, clip_limit=(1.0, 4.0), tile_grid_size=(8, 8))\n",
      "\u001b[34m\u001b[1mval: \u001b[0mFast image access ✅ (ping: 0.0±0.0 ms, read: 53.6±29.5 MB/s, size: 29.6 KB)\n",
      "\u001b[K\u001b[34m\u001b[1mval: \u001b[0mScanning /home/oleg/projects/ML/RT-DETR-RF-DETR/UAV-6_YOLO11/valid/labels.cache... 477 images, 0 backgrounds, 0 corrupt: 100% ━━━━━━━━━━━━ 477/477 313.1Kit/s 0.0s\n",
      "WARNING ⚠️ cache='ram' may produce non-deterministic training results. Consider cache='disk' as a deterministic alternative if your disk space allows.\n",
      "\u001b[K\u001b[34m\u001b[1mval: \u001b[0mCaching images (0.5GB RAM): 100% ━━━━━━━━━━━━ 477/477 671.9it/s 0.7s0.1s\n",
      "Plotting labels to /home/oleg/projects/ML/RT-DETR-RF-DETR/runs/detect/train13/labels.jpg... \n",
      "\u001b[34m\u001b[1moptimizer:\u001b[0m 'optimizer=auto' found, ignoring 'lr0=0.01' and 'momentum=0.937' and determining best 'optimizer', 'lr0' and 'momentum' automatically... \n",
      "\u001b[34m\u001b[1moptimizer:\u001b[0m AdamW(lr=0.002, momentum=0.9) with parameter groups 143 weight(decay=0.0), 206 weight(decay=0.0005), 226 bias(decay=0.0)\n",
      "\u001b[34m\u001b[1mMLflow: \u001b[0mlogging run_id(00f0eb32b5f846f7bbf00bf51acfbb1a) to runs/mlflow\n",
      "\u001b[34m\u001b[1mMLflow: \u001b[0mview at http://127.0.0.1:5000 with 'mlflow server --backend-store-uri runs/mlflow'\n",
      "\u001b[34m\u001b[1mMLflow: \u001b[0mdisable with 'yolo settings mlflow=False'\n",
      "Image sizes 640 train, 640 val\n",
      "Using 16 dataloader workers\n",
      "Logging results to \u001b[1m/home/oleg/projects/ML/RT-DETR-RF-DETR/runs/detect/train13\u001b[0m\n",
      "Starting training for 1 epochs...\n",
      "\n",
      "      Epoch    GPU_mem  giou_loss   cls_loss    l1_loss  Instances       Size\n",
      "\u001b[K        1/1      6.47G      0.674      13.03     0.4714         11        640: 0% ──────────── 0/938  1.6s"
     ]
    },
    {
     "name": "stderr",
     "output_type": "stream",
     "text": [
      "/home/oleg/miniconda3/envs/tensflow/lib/python3.11/site-packages/torch/autograd/graph.py:825: UserWarning: grid_sampler_2d_backward_cuda does not have a deterministic implementation, but you set 'torch.use_deterministic_algorithms(True, warn_only=True)'. You can file an issue at https://github.com/pytorch/pytorch/issues to help us prioritize adding deterministic support for this operation. (Triggered internally at ../aten/src/ATen/Context.cpp:91.)\n",
      "  return Variable._execution_engine.run_backward(  # Calls into the C++ engine to run the backward pass\n"
     ]
    },
    {
     "name": "stdout",
     "output_type": "stream",
     "text": [
      "\u001b[K        1/1      6.62G     0.5277     0.9445     0.3543         15        640: 100% ━━━━━━━━━━━━ 938/938 2.6it/s 5:56<0.4s\n",
      "\u001b[K                 Class     Images  Instances      Box(P          R      mAP50  mAP50-95): 100% ━━━━━━━━━━━━ 30/30 5.9it/s 5.1s0.1s\n",
      "                   all        477        548      0.873       0.75       0.83      0.477\n",
      "\n",
      "1 epochs completed in 0.101 hours.\n",
      "Optimizer stripped from /home/oleg/projects/ML/RT-DETR-RF-DETR/runs/detect/train13/weights/last.pt, 66.2MB\n",
      "Optimizer stripped from /home/oleg/projects/ML/RT-DETR-RF-DETR/runs/detect/train13/weights/best.pt, 66.2MB\n",
      "\n",
      "Validating /home/oleg/projects/ML/RT-DETR-RF-DETR/runs/detect/train13/weights/best.pt...\n",
      "Ultralytics 8.3.221 🚀 Python-3.11.14 torch-2.5.1+cu124 CUDA:0 (NVIDIA GeForce RTX 4070, 12282MiB)\n",
      "rt-detr-l summary: 302 layers, 31,985,795 parameters, 0 gradients, 103.4 GFLOPs\n",
      "\u001b[K                 Class     Images  Instances      Box(P          R      mAP50  mAP50-95): 100% ━━━━━━━━━━━━ 30/30 6.8it/s 4.4s0.1s\n",
      "                   all        477        548      0.871      0.748       0.83      0.476\n",
      "Speed: 0.1ms preprocess, 6.4ms inference, 0.0ms loss, 0.4ms postprocess per image\n",
      "Results saved to \u001b[1m/home/oleg/projects/ML/RT-DETR-RF-DETR/runs/detect/train13\u001b[0m\n",
      "\u001b[34m\u001b[1mMLflow: \u001b[0mresults logged to runs/mlflow\n",
      "\u001b[34m\u001b[1mMLflow: \u001b[0mdisable with 'yolo settings mlflow=False'\n"
     ]
    }
   ],
   "source": [
    "from ultralytics import RTDETR\n",
    "\n",
    "results = model.train(data=\"/home/oleg/projects/ML/RT-DETR-RF-DETR/UAV-6_YOLO11/data.yaml\",\n",
    "                    epochs=1,\n",
    "                    batch=8,     # Средний batch  \n",
    "                    imgsz=640, #640,\n",
    "                    half=True,           # ⬅️ FP16 precision (осторожно!) \n",
    "                    profile=True,        # ⬅️ Покажет что тормозит  \n",
    "                    #compile=True,  # ⬅️ УСКОРЯЕТ В 1.5-2 РАЗА!\n",
    "                    workers=16,  \n",
    "                    cache=True,   # Кеширование\n",
    "                    amp=True) # Mixed precision"
   ]
  },
  {
   "cell_type": "code",
   "execution_count": null,
   "id": "2c4f5ca5-6027-4f59-9c16-0210981eb214",
   "metadata": {},
   "outputs": [],
   "source": []
  },
  {
   "cell_type": "code",
   "execution_count": null,
   "id": "adcb340d-ec49-499d-8641-94f63f81bfb9",
   "metadata": {},
   "outputs": [],
   "source": []
  },
  {
   "cell_type": "code",
   "execution_count": null,
   "id": "b9897d56-d69a-410a-a591-616b0f81fd37",
   "metadata": {},
   "outputs": [],
   "source": []
  },
  {
   "cell_type": "code",
   "execution_count": null,
   "id": "8e6be63f-1c26-4021-aea4-67fb7de59483",
   "metadata": {},
   "outputs": [],
   "source": []
  },
  {
   "cell_type": "code",
   "execution_count": null,
   "id": "076de66c-2490-43cb-a7a7-69466fc0a708",
   "metadata": {},
   "outputs": [],
   "source": []
  },
  {
   "cell_type": "code",
   "execution_count": null,
   "id": "66148103-ef74-4152-b75b-ceaf4942ae47",
   "metadata": {},
   "outputs": [],
   "source": [
    "# Run inference with the RT-DETR-l model on the 'bus.jpg' image\n",
    "results = model(\"path/to/bus.jpg\")"
   ]
  }
 ],
 "metadata": {
  "kernelspec": {
   "display_name": "tensflow",
   "language": "python",
   "name": "tensflow"
  },
  "language_info": {
   "codemirror_mode": {
    "name": "ipython",
    "version": 3
   },
   "file_extension": ".py",
   "mimetype": "text/x-python",
   "name": "python",
   "nbconvert_exporter": "python",
   "pygments_lexer": "ipython3",
   "version": "3.11.14"
  }
 },
 "nbformat": 4,
 "nbformat_minor": 5
}

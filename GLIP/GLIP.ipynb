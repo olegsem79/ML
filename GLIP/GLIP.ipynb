{
 "cells": [
  {
   "cell_type": "code",
   "execution_count": null,
   "id": "373e9d1d-4e04-4551-a78a-05f21c372429",
   "metadata": {},
   "outputs": [],
   "source": [
    "GLIP (от Microsoft) - очень мощная:\n",
    "python\n",
    "# Установи: pip install salesforce-lavis\n",
    "from transformers import AutoProcessor, AutoModel\n",
    "import torch\n",
    "\n",
    "processor = AutoProcessor.from_pretrained(\"microsoft/glip-base\")\n",
    "model = AutoModel.from_pretrained(\"microsoft/glip-base\")\n",
    "\n",
    "# Использование\n",
    "texts = [\"person\", \"laptop\", \"cup\"]\n",
    "inputs = processor(images=image, text=texts, return_tensors=\"pt\")\n",
    "outputs = model(**inputs)"
   ]
  },
  {
   "cell_type": "code",
   "execution_count": null,
   "id": "0b9c788d-a349-4335-a028-ca5025745409",
   "metadata": {},
   "outputs": [],
   "source": []
  }
 ],
 "metadata": {
  "kernelspec": {
   "display_name": "tensflow",
   "language": "python",
   "name": "tensflow"
  },
  "language_info": {
   "codemirror_mode": {
    "name": "ipython",
    "version": 3
   },
   "file_extension": ".py",
   "mimetype": "text/x-python",
   "name": "python",
   "nbconvert_exporter": "python",
   "pygments_lexer": "ipython3",
   "version": "3.11.14"
  }
 },
 "nbformat": 4,
 "nbformat_minor": 5
}

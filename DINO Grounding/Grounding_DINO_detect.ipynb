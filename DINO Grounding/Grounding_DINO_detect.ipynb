{
 "cells": [
  {
   "cell_type": "code",
   "execution_count": null,
   "id": "9ac65aed-ef1a-446b-b301-df2f3ecaf5fd",
   "metadata": {},
   "outputs": [],
   "source": []
  },
  {
   "cell_type": "code",
   "execution_count": null,
   "id": "24e38b1b-cb6c-4174-a329-9b5f384d9baf",
   "metadata": {},
   "outputs": [],
   "source": [
    "pip install git+https://github.com/IDEA-Research/GroundingDINO.git"
   ]
  },
  {
   "cell_type": "code",
   "execution_count": null,
   "id": "1d8d3fe6-93ec-4682-9232-8706bd98a8a9",
   "metadata": {},
   "outputs": [],
   "source": []
  },
  {
   "cell_type": "code",
   "execution_count": 1,
   "id": "df027a8b-13f5-4f73-8996-cf45fb998aee",
   "metadata": {},
   "outputs": [
    {
     "ename": "ModuleNotFoundError",
     "evalue": "No module named 'groundingdino'",
     "output_type": "error",
     "traceback": [
      "\u001b[31m---------------------------------------------------------------------------\u001b[39m",
      "\u001b[31mModuleNotFoundError\u001b[39m                       Traceback (most recent call last)",
      "\u001b[36mCell\u001b[39m\u001b[36m \u001b[39m\u001b[32mIn[1]\u001b[39m\u001b[32m, line 6\u001b[39m\n\u001b[32m      4\u001b[39m \u001b[38;5;28;01mimport\u001b[39;00m\u001b[38;5;250m \u001b[39m\u001b[34;01mnumpy\u001b[39;00m\u001b[38;5;250m \u001b[39m\u001b[38;5;28;01mas\u001b[39;00m\u001b[38;5;250m \u001b[39m\u001b[34;01mnp\u001b[39;00m\n\u001b[32m      5\u001b[39m \u001b[38;5;28;01mimport\u001b[39;00m\u001b[38;5;250m \u001b[39m\u001b[34;01mmatplotlib\u001b[39;00m\u001b[34;01m.\u001b[39;00m\u001b[34;01mpyplot\u001b[39;00m\u001b[38;5;250m \u001b[39m\u001b[38;5;28;01mas\u001b[39;00m\u001b[38;5;250m \u001b[39m\u001b[34;01mplt\u001b[39;00m\n\u001b[32m----> \u001b[39m\u001b[32m6\u001b[39m \u001b[38;5;28;01mfrom\u001b[39;00m\u001b[38;5;250m \u001b[39m\u001b[34;01mgroundingdino\u001b[39;00m\u001b[34;01m.\u001b[39;00m\u001b[34;01mutil\u001b[39;00m\u001b[34;01m.\u001b[39;00m\u001b[34;01minference\u001b[39;00m\u001b[38;5;250m \u001b[39m\u001b[38;5;28;01mimport\u001b[39;00m load_model, load_image, predict\n\u001b[32m      8\u001b[39m \u001b[38;5;28;01mdef\u001b[39;00m\u001b[38;5;250m \u001b[39m\u001b[34msimple_grounding_dino\u001b[39m(image_path, text_prompt):\n\u001b[32m      9\u001b[39m \u001b[38;5;250m    \u001b[39m\u001b[33;03m\"\"\"Простой GroundingDINO - только детекция по тексту\"\"\"\u001b[39;00m\n",
      "\u001b[31mModuleNotFoundError\u001b[39m: No module named 'groundingdino'"
     ]
    }
   ],
   "source": [
    "# Установи: pip install groundingdino-py\n",
    "import torch\n",
    "import cv2\n",
    "import numpy as np\n",
    "import matplotlib.pyplot as plt\n",
    "from groundingdino.util.inference import load_model, load_image, predict\n",
    "\n",
    "def simple_grounding_dino(image_path, text_prompt):\n",
    "    \"\"\"Простой GroundingDINO - только детекция по тексту\"\"\"\n",
    "    \n",
    "    print(f\"🔍 Ищем: '{text_prompt}'\")\n",
    "    \n",
    "    # 1. Загружаем модель (автоскачается при первом запуске)\n",
    "    print(\"📥 Загружаем GroundingDINO...\")\n",
    "    model = load_model(\n",
    "        \"groundingdino/config/GroundingDINO_SwinT_OGC.py\", \n",
    "        \"weights/groundingdino_swint_ogc.pth\"\n",
    "    )\n",
    "    \n",
    "    # 2. Загружаем изображение\n",
    "    image_source, image = load_image(image_path)\n",
    "    \n",
    "    # 3. Ищем объекты по тексту\n",
    "    print(\"🎯 Ищем объекты...\")\n",
    "    boxes, scores, phrases = predict(\n",
    "        model=model,\n",
    "        image=image, \n",
    "        caption=text_prompt,\n",
    "        box_threshold=0.35,    # Минимальная уверенность bbox\n",
    "        text_threshold=0.25    # Минимальное соответствие тексту\n",
    "    )\n",
    "    \n",
    "    # 4. Показываем что нашли\n",
    "    print(f\"✅ Найдено объектов: {len(boxes)}\")\n",
    "    for i, (phrase, score) in enumerate(zip(phrases, scores)):\n",
    "        print(f\"   {i+1}. {phrase} (уверенность: {score:.3f})\")\n",
    "    \n",
    "    # 5. Рисуем результат\n",
    "    image_display = image_source[0].permute(1, 2, 0).cpu().numpy()\n",
    "    \n",
    "    plt.figure(figsize=(12, 8))\n",
    "    plt.imshow(image_display)\n",
    "    \n",
    "    # Рисуем bounding boxes\n",
    "    for i, (box, phrase, score) in enumerate(zip(boxes, phrases, scores)):\n",
    "        # Конвертируем координаты\n",
    "        H, W = image_source.shape[1], image_source.shape[2]\n",
    "        x1, y1, x2, y2 = box * torch.tensor([W, H, W, H])\n",
    "        \n",
    "        # Рисуем прямоугольник\n",
    "        rect = plt.Rectangle((x1, y1), x2-x1, y2-y1, \n",
    "                           linewidth=3, edgecolor='red', facecolor='none')\n",
    "        plt.gca().add_patch(rect)\n",
    "        \n",
    "        # Добавляем подпись\n",
    "        label = f\"{phrase} ({score:.2f})\"\n",
    "        plt.text(x1, y1-10, label, \n",
    "                fontsize=12, fontweight='bold', color='white',\n",
    "                bbox=dict(boxstyle=\"round,pad=0.3\", facecolor='red', alpha=0.8))\n",
    "    \n",
    "    plt.axis('off')\n",
    "    plt.title(f\"GroundingDINO: '{text_prompt}'\\nНайдено: {len(boxes)} объектов\", fontsize=14)\n",
    "    plt.tight_layout()\n",
    "    plt.show()\n",
    "\n",
    "# 🎯 ПРОСТЫЕ ПРИМЕРЫ:\n",
    "\n",
    "print(\"=== ПРИМЕР 1: Человек ===\")\n",
    "simple_grounding_dino(\n",
    "    \"/home/oleg/projects/ML/CLIP/images/0d354ad89e92986b19b10a8ac2797dfb.jpg\",\n",
    "    \"person\"\n",
    ")\n",
    "\n",
    "print(\"\\n=== ПРИМЕР 2: Несколько объектов ===\")\n",
    "simple_grounding_dino(\n",
    "    \"/home/oleg/projects/ML/CLIP/images/0d354ad89e92986b19b10a8ac2797dfb.jpg\", \n",
    "    \"person . laptop . cup\"\n",
    ")\n",
    "\n",
    "print(\"\\n=== ПРИМЕР 3: Только чашка ===\")\n",
    "simple_grounding_dino(\n",
    "    \"/home/oleg/projects/ML/CLIP/images/0d354ad89e92986b19b10a8ac2797dfb.jpg\",\n",
    "    \"cup\"\n",
    ")"
   ]
  },
  {
   "cell_type": "code",
   "execution_count": null,
   "id": "fac0ad31-a2ed-4dcd-9b45-291621e9aef7",
   "metadata": {},
   "outputs": [],
   "source": []
  }
 ],
 "metadata": {
  "kernelspec": {
   "display_name": "tensflow",
   "language": "python",
   "name": "tensflow"
  },
  "language_info": {
   "codemirror_mode": {
    "name": "ipython",
    "version": 3
   },
   "file_extension": ".py",
   "mimetype": "text/x-python",
   "name": "python",
   "nbconvert_exporter": "python",
   "pygments_lexer": "ipython3",
   "version": "3.11.14"
  }
 },
 "nbformat": 4,
 "nbformat_minor": 5
}

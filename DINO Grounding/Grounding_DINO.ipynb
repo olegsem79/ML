{
 "cells": [
  {
   "cell_type": "code",
   "execution_count": null,
   "id": "b2f6d4cf-be07-499d-acc1-782699ae8c8a",
   "metadata": {},
   "outputs": [],
   "source": [
    "Grounding DINO - Лучший для детекции по тексту"
   ]
  },
  {
   "cell_type": "code",
   "execution_count": null,
   "id": "268d1784-0bbe-4deb-b36a-b13cd93f7844",
   "metadata": {},
   "outputs": [],
   "source": [
    "grounding_dino_capabilities = {\n",
    "    \"тип\": \"Zero-shot детектор объектов по текстовым запросам\",\n",
    "    \"архитектура\": \"Transformer-based (Swin + BERT)\",\n",
    "    \"сильные_стороны\": [\n",
    "        \"🎯 Точная детекция по свободным текстовым запросам\",\n",
    "        \"🚀 Отличное качество без дообучения\",\n",
    "        \"🔍 Понимает сложные описания ('красная машина слева')\",\n",
    "        \"📊 Хорошо работает на редких объектах\"\n",
    "    ],\n",
    "    \"использование\": [\n",
    "        \"Интерактивная разметка данных\",\n",
    "        \"Поиск объектов в видео по описанию\", \n",
    "        \"Автоматическая аннотация датасетов\",\n",
    "        \"Визуальный поиск по естественному языку\"\n",
    "    ],\n",
    "    \"пример_запроса\": \"детектировать 'человек в синей куртке и собака рядом'\"\n",
    "}"
   ]
  }
 ],
 "metadata": {
  "kernelspec": {
   "display_name": "tensflow",
   "language": "python",
   "name": "tensflow"
  },
  "language_info": {
   "codemirror_mode": {
    "name": "ipython",
    "version": 3
   },
   "file_extension": ".py",
   "mimetype": "text/x-python",
   "name": "python",
   "nbconvert_exporter": "python",
   "pygments_lexer": "ipython3",
   "version": "3.11.14"
  }
 },
 "nbformat": 4,
 "nbformat_minor": 5
}

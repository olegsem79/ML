{
 "cells": [
  {
   "cell_type": "code",
   "execution_count": null,
   "id": "b2f02659-fe84-446a-a77c-204bfec0da57",
   "metadata": {},
   "outputs": [],
   "source": [
    "SAM 2 (Segment Anything Model 2)\n",
    "\n",
    "sam2_capabilities = {\n",
    "    \"тип\": \"Zero-shot сегментация\",\n",
    "    \"архитектура\": \"ViT-H + prompt encoder\",\n",
    "    \"сильные_стороны\": [\n",
    "        \"🎯 Сегментация любых объектов без обучения\",\n",
    "        \"🚀 Работает по точкам, bbox, маскам\",\n",
    "        \"🔍 Высокое качество границ\",\n",
    "        \"📊 Поддержка видео\"\n",
    "    ],\n",
    "    \"использование\": [\n",
    "        \"Интерактивная сегментация\",\n",
    "        \"Создание масок для обучения\",\n",
    "        \"Медицинская сегментация\",\n",
    "        \"Удаление фона\"\n",
    "    ]\n",
    "}"
   ]
  },
  {
   "cell_type": "code",
   "execution_count": null,
   "id": "d37f8ca6-f72f-497e-bcd6-2dd025e6f013",
   "metadata": {},
   "outputs": [],
   "source": []
  }
 ],
 "metadata": {
  "kernelspec": {
   "display_name": "tensflow",
   "language": "python",
   "name": "tensflow"
  },
  "language_info": {
   "codemirror_mode": {
    "name": "ipython",
    "version": 3
   },
   "file_extension": ".py",
   "mimetype": "text/x-python",
   "name": "python",
   "nbconvert_exporter": "python",
   "pygments_lexer": "ipython3",
   "version": "3.11.14"
  }
 },
 "nbformat": 4,
 "nbformat_minor": 5
}

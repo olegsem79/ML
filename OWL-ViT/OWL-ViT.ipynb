{
 "cells": [
  {
   "cell_type": "code",
   "execution_count": null,
   "id": "870ea1ea-94b6-489e-8c9d-23b1f3ef91d0",
   "metadata": {},
   "outputs": [],
   "source": [
    "OWL-ViT (Open World Localization)\n",
    "\n",
    "owl_vit_capabilities = {\n",
    "    \"тип\": \"Open-vocabulary детектор\",\n",
    "    \"архитектура\": \"ViT + текстовый энкодер\", \n",
    "    \"сильные_стороны\": [\n",
    "        \"🎯 Детекция по текстовым промптам\",\n",
    "        \"🚀 Поддержка множества классов\",\n",
    "        \"🔍 Хорошая zero-shot производительность\",\n",
    "        \"📊 Быстрая инференс\"\n",
    "    ],\n",
    "    \"использование\": [\n",
    "        \"Детекция нестандартных объектов\",\n",
    "        \"Визуальный поиск в базах данных\",\n",
    "        \"Автоматическая категоризация\"\n",
    "    ]\n",
    "}"
   ]
  }
 ],
 "metadata": {
  "kernelspec": {
   "display_name": "tensflow",
   "language": "python",
   "name": "tensflow"
  },
  "language_info": {
   "codemirror_mode": {
    "name": "ipython",
    "version": 3
   },
   "file_extension": ".py",
   "mimetype": "text/x-python",
   "name": "python",
   "nbconvert_exporter": "python",
   "pygments_lexer": "ipython3",
   "version": "3.11.14"
  }
 },
 "nbformat": 4,
 "nbformat_minor": 5
}

{
 "cells": [
  {
   "cell_type": "code",
   "execution_count": null,
   "id": "870ea1ea-94b6-489e-8c9d-23b1f3ef91d0",
   "metadata": {},
   "outputs": [],
   "source": [
    "OWL-ViT (Open World Localization)\n",
    "\n",
    "owl_vit_capabilities = {\n",
    "    \"тип\": \"Open-vocabulary детектор\",\n",
    "    \"архитектура\": \"ViT + текстовый энкодер\", \n",
    "    \"сильные_стороны\": [\n",
    "        \"🎯 Детекция по текстовым промптам\",\n",
    "        \"🚀 Поддержка множества классов\",\n",
    "        \"🔍 Хорошая zero-shot производительность\",\n",
    "        \"📊 Быстрая инференс\"\n",
    "    ],\n",
    "    \"использование\": [\n",
    "        \"Детекция нестандартных объектов\",\n",
    "        \"Визуальный поиск в базах данных\",\n",
    "        \"Автоматическая категоризация\"\n",
    "    ]\n",
    "}"
   ]
  },
  {
   "cell_type": "code",
   "execution_count": null,
   "id": "b3167e73-7faf-478b-ab5a-9ffdedec078e",
   "metadata": {},
   "outputs": [],
   "source": [
    "# Разные размеры Owl-ViT\n",
    "models = [\n",
    "    \"google/owlvit-base-patch32\",    # 👈 Ты используешь эту\n",
    "    \"google/owlvit-base-patch16\",    # Больше деталей\n",
    "    \"google/owlvit-large-patch14\",   # Самая точная\n",
    "]\n",
    "\n",
    "# Загрузка\n",
    "from transformers import OwlViTProcessor, OwlViTForObjectDetection\n",
    "processor = OwlViTProcessor.from_pretrained(\"google/owlvit-large-patch14\")\n",
    "model = OwlViTForObjectDetection.from_pretrained(\"google/owlvit-large-patch14\")"
   ]
  },
  {
   "cell_type": "code",
   "execution_count": null,
   "id": "84a680af-7009-4740-b022-7398f0d79ad9",
   "metadata": {},
   "outputs": [],
   "source": [
    "GLIP (от Microsoft) - очень мощная:\n",
    "python\n",
    "# Установи: pip install salesforce-lavis\n",
    "from transformers import AutoProcessor, AutoModel\n",
    "import torch\n",
    "\n",
    "processor = AutoProcessor.from_pretrained(\"microsoft/glip-base\")\n",
    "model = AutoModel.from_pretrained(\"microsoft/glip-base\")\n",
    "\n",
    "# Использование\n",
    "texts = [\"person\", \"laptop\", \"cup\"]\n",
    "inputs = processor(images=image, text=texts, return_tensors=\"pt\")\n",
    "outputs = model(**inputs)"
   ]
  },
  {
   "cell_type": "code",
   "execution_count": null,
   "id": "cfed31f3-4b6a-4c6e-afd8-8d4161aca886",
   "metadata": {},
   "outputs": [],
   "source": []
  },
  {
   "cell_type": "code",
   "execution_count": null,
   "id": "d37dbbe1-2944-4d51-b614-ee9bb895a49e",
   "metadata": {},
   "outputs": [],
   "source": []
  }
 ],
 "metadata": {
  "kernelspec": {
   "display_name": "tensflow",
   "language": "python",
   "name": "tensflow"
  },
  "language_info": {
   "codemirror_mode": {
    "name": "ipython",
    "version": 3
   },
   "file_extension": ".py",
   "mimetype": "text/x-python",
   "name": "python",
   "nbconvert_exporter": "python",
   "pygments_lexer": "ipython3",
   "version": "3.11.14"
  }
 },
 "nbformat": 4,
 "nbformat_minor": 5
}
